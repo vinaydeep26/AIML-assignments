{
 "cells": [
  {
   "cell_type": "code",
   "execution_count": 5,
   "metadata": {},
   "outputs": [],
   "source": [
    "import pandas as pd\n",
    "data = {'Name':['vinay', 'zack', 'Jack', 'Nick'], 'Age':[20,22,20,23], 'Email':['vinaydeep26@gmail.com','zack@gmail.com'\n",
    "                                                                                ,'jack@gmail.com','nick@gmail.com'],'Phno':[8123477234,8473718294,9827847362,9485736278]}"
   ]
  },
  {
   "cell_type": "code",
   "execution_count": 6,
   "metadata": {},
   "outputs": [
    {
     "name": "stdout",
     "output_type": "stream",
     "text": [
      "    Name  Age                  Email        Phno\n",
      "0  vinay   20  vinaydeep26@gmail.com  8123477234\n",
      "1   zack   22         zack@gmail.com  8473718294\n",
      "2   Jack   20         jack@gmail.com  9827847362\n",
      "3   Nick   23         nick@gmail.com  9485736278\n"
     ]
    }
   ],
   "source": [
    "df=pd.DataFrame(data)\n",
    "print(df)"
   ]
  },
  {
   "cell_type": "code",
   "execution_count": 8,
   "metadata": {},
   "outputs": [
    {
     "data": {
      "text/plain": [
       "0    0.5\n",
       "1    4.4\n",
       "dtype: float64"
      ]
     },
     "execution_count": 8,
     "metadata": {},
     "output_type": "execute_result"
    }
   ],
   "source": [
    "df1=pd.read_csv('weather.csv')\n",
    "#a)\n",
    "df1.head()\n",
    "#b)\n",
    "df1.head(10)\n",
    "#c)\n",
    "df1['MaxTemp'].sum()\n",
    "df1['MaxTemp'].mean()\n",
    "df1['MaxTemp'].describe()\n",
    "df1['MaxTemp'].count()\n",
    "df1['MaxTemp'].max()\n",
    "df1['MaxTemp'].min()\n",
    "df1['MaxTemp'].median()\n",
    "df1['MaxTemp'].mode()\n",
    "#d)\n",
    "df1.tail(5)\n",
    "#e)\n",
    "df1['MinTemp'].sum()\n",
    "df1['MinTemp'].mean()\n",
    "df1['MinTemp'].describe()\n",
    "df1['MinTemp'].count()\n",
    "df1['MinTemp'].max()\n",
    "df1['MinTemp'].min()\n",
    "df1['MinTemp'].median()\n",
    "df1['MinTemp'].mode()"
   ]
  },
  {
   "cell_type": "code",
   "execution_count": null,
   "metadata": {},
   "outputs": [],
   "source": []
  }
 ],
 "metadata": {
  "kernelspec": {
   "display_name": "Python 3",
   "language": "python",
   "name": "python3"
  },
  "language_info": {
   "codemirror_mode": {
    "name": "ipython",
    "version": 3
   },
   "file_extension": ".py",
   "mimetype": "text/x-python",
   "name": "python",
   "nbconvert_exporter": "python",
   "pygments_lexer": "ipython3",
   "version": "3.7.2"
  }
 },
 "nbformat": 4,
 "nbformat_minor": 2
}
